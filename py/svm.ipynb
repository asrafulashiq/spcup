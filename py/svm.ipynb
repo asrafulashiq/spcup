{
 "cells": [
  {
   "cell_type": "code",
   "execution_count": 2,
   "metadata": {
    "collapsed": true
   },
   "outputs": [],
   "source": [
    "# %load write_mat.py\n",
    "##\n",
    "#   load .mat files and write the contens to a \n",
    "#   .mat file.\n",
    "#    the files has two fields - 'inputs' and 'targets'  \n",
    "#   'inputs' is a numpy array of tuples\n",
    "#   'targets' is from 0 to 7 (for grid 'A' to 'H')\n",
    "\n",
    "import scipy.io\n",
    "import numpy as np\n",
    "import os.path\n",
    "import re\n",
    "\n",
    "inputs = []\n",
    "targets = []\n",
    "\n",
    "def init():\n",
    "    inputs = []\n",
    "    targets = []\n",
    "\n",
    "def loadMat(file):\n",
    "    '''\n",
    "     load matfile named 'file' ..\n",
    "    '''\n",
    "    return scipy.io.loadmat(file)\n",
    "\n",
    "def load_local_features(data,target_value):\n",
    "    ''' load local features from data '''\n",
    "    feature_name = []\n",
    "\n",
    "    # extract the local feature name\n",
    "    for i in data:\n",
    "        if not re.match(r'__*',i) and i!='F' :\n",
    "            if not re.match(r'global*',i): # skipping global feature\n",
    "                if not re.match(r'wav_var',i) : \n",
    "                #if re.match(r'mean',i) or re.match(r'diff',i) or re.match(r'range',i):\n",
    "                    feature_name.append(i)\n",
    "    input  = zip( *[ data[i][0] for i in feature_name ])\n",
    "\n",
    "    target =  [[target_value] for i in xrange(len(input))] \n",
    "\n",
    "    inputs.extend(input)\n",
    "    targets.extend(target)\n",
    "\n",
    "def write_to_file(filename):\n",
    "    '''\n",
    "        write inputs and targets to a filename .mat file\n",
    "     '''\n",
    "    #np.savez(filename,inputs,targets)\n",
    "    scipy.io.savemat(filename, mdict = {'inputs':inputs,'targets':targets} )\n",
    "\n",
    "\n",
    "\n",
    "def main():\n",
    "    grids = ['A','B','C','D','E','F','G','H'];\n",
    "    init()\n",
    "\n",
    "    for grid in grids:\n",
    "        #filename = '../feature_data/matfile/{0}/{0}_P{1}.mat'\\\n",
    "        #.format(grid,i)\n",
    "        filename = '../mat/me/features/Grid{0}.mat'\\\n",
    "            .format(grid)\n",
    "        if os.path.exists(filename):\n",
    "            load_local_features(\n",
    "                loadMat(filename), ord(grid)-ord('A')\n",
    "            )\n",
    "    file_to_save = 'feature_data/features.mat'\n",
    "    write_to_file(file_to_save)\n",
    "\n",
    "if __name__ == '__main__':\n",
    "    main()\n",
    "\n",
    "\n",
    "\n",
    "\n",
    "\n",
    "\n",
    " "
   ]
  },
  {
   "cell_type": "code",
   "execution_count": 3,
   "metadata": {
    "collapsed": true
   },
   "outputs": [],
   "source": [
    "main()"
   ]
  },
  {
   "cell_type": "code",
   "execution_count": 8,
   "metadata": {
    "collapsed": false
   },
   "outputs": [
    {
     "name": "stdout",
     "output_type": "stream",
     "text": [
      "Error percent : 23.1366459627\n"
     ]
    }
   ],
   "source": [
    "# %load svm_1.py\n",
    "from __future__ import division\n",
    "import scipy.io\n",
    "import numpy as np\n",
    "import scipy as sp\n",
    "import sys\n",
    "import random\n",
    "from sklearn import svm\n",
    "\n",
    "allf = scipy.io.loadmat('feature_data/features.mat')\n",
    "inputs = allf['inputs']\n",
    "targets = allf['targets']\n",
    "\n",
    "assert len(inputs)==len(targets)\n",
    "percent = 0.75 # default 75% train data\n",
    "\n",
    "#if len(sys.argv)>1:\n",
    "#    percent = float(sys.argv[1])\n",
    "\n",
    "z = zip(inputs,targets)\n",
    "random.shuffle(z)\n",
    "\n",
    "train_last_index = int( percent * len(z) )\n",
    "\n",
    "# train inputs\n",
    "X = np.array([ z[i][0] for i in xrange(train_last_index) ])\n",
    "Y = np.array([ int(z[i][1]) for i in xrange(train_last_index) ])\n",
    "\n",
    "assert len(X)==len(Y)\n",
    "\n",
    "clf = svm.SVC()\n",
    "clf.fit(X,Y)\n",
    "\n",
    "test_x = np.array([ z[i][0] for i in xrange( train_last_index,len(z) )  ])\n",
    "test_y = np.array([ int(z[i][1]) for i in xrange(train_last_index,len(z)) ])\n",
    "\n",
    "pr = clf.predict(test_x)\n",
    "\n",
    "d = abs(pr-test_y)\n",
    "\n",
    "s = sum([1  for i in d if i!=0])\n",
    "\n",
    "print 'Error percent :',s/len(d)*100\n",
    "\n"
   ]
  },
  {
   "cell_type": "code",
   "execution_count": null,
   "metadata": {
    "collapsed": true
   },
   "outputs": [],
   "source": []
  },
  {
   "cell_type": "code",
   "execution_count": 18,
   "metadata": {
    "collapsed": false
   },
   "outputs": [
    {
     "name": "stdout",
     "output_type": "stream",
     "text": [
      "Error percent : 21.5838509317\n"
     ]
    }
   ],
   "source": [
    "%run svm_1.py"
   ]
  },
  {
   "cell_type": "code",
   "execution_count": 19,
   "metadata": {
    "collapsed": false
   },
   "outputs": [
    {
     "data": {
      "text/plain": [
       "array([ -6.24545679,  -0.7109509 ,  -5.4403286 ,  60.02294948,\n",
       "        60.02294948, -13.88056216])"
      ]
     },
     "execution_count": 19,
     "metadata": {},
     "output_type": "execute_result"
    }
   ],
   "source": [
    "allf['inputs'][0]"
   ]
  },
  {
   "cell_type": "code",
   "execution_count": 20,
   "metadata": {
    "collapsed": true
   },
   "outputs": [],
   "source": [
    "%run write_mat.py"
   ]
  },
  {
   "cell_type": "code",
   "execution_count": 26,
   "metadata": {
    "collapsed": false
   },
   "outputs": [
    {
     "name": "stdout",
     "output_type": "stream",
     "text": [
      "Error percent : 28.2608695652\n"
     ]
    }
   ],
   "source": [
    "%run svm_1.py"
   ]
  },
  {
   "cell_type": "code",
   "execution_count": 24,
   "metadata": {
    "collapsed": false
   },
   "outputs": [
    {
     "data": {
      "text/plain": [
       "array([[ -6.24545679,  -0.7109509 ,  -5.4403286 , ...,  60.02294948,\n",
       "        -13.88056216, -62.35149755],\n",
       "       [ -6.36115672,  -0.57511224,  -5.60568865, ...,  60.02297139,\n",
       "        -13.92614652, -61.54056734],\n",
       "       [ -6.50407888,  -0.63179481,  -5.92923723, ...,  60.02243203,\n",
       "        -14.52637645, -62.35149755],\n",
       "       ..., \n",
       "       [ -4.53467648,  -1.65715016,  -2.21450199, ...,  50.04282168,\n",
       "         -6.42760601, -65.12408627],\n",
       "       [ -4.51716009,  -1.73587005,  -2.80303806, ...,  49.98749974,\n",
       "         -8.04276505, -63.73779191],\n",
       "       [ -4.94758398,  -1.38298702,  -3.09736442, ...,  49.92780845,\n",
       "         -8.69964734, -62.35149755]])"
      ]
     },
     "execution_count": 24,
     "metadata": {},
     "output_type": "execute_result"
    }
   ],
   "source": [
    "allf['inputs']"
   ]
  },
  {
   "cell_type": "code",
   "execution_count": 27,
   "metadata": {
    "collapsed": false
   },
   "outputs": [
    {
     "data": {
      "text/plain": [
       "array([ -6.24545679e+00,  -7.10950898e-01,  -5.44032860e+00,\n",
       "         6.00229495e+01,   6.00229495e+01,  -1.38805622e+01,\n",
       "         8.33851424e-28])"
      ]
     },
     "execution_count": 27,
     "metadata": {},
     "output_type": "execute_result"
    }
   ],
   "source": [
    "allf['inputs'][0]"
   ]
  },
  {
   "cell_type": "code",
   "execution_count": 30,
   "metadata": {
    "collapsed": false
   },
   "outputs": [
    {
     "name": "stdout",
     "output_type": "stream",
     "text": [
      "Error percent : 34.4720496894\n"
     ]
    }
   ],
   "source": [
    "%run svm_1.py"
   ]
  },
  {
   "cell_type": "code",
   "execution_count": 31,
   "metadata": {
    "collapsed": false
   },
   "outputs": [
    {
     "data": {
      "text/plain": [
       "array([ -3.38813179e-21,   2.83540091e-03,  -7.10950898e-01,\n",
       "        -5.44032860e+00,   6.00229495e+01,  -1.38805622e+01,\n",
       "         3.38813179e-21,   0.00000000e+00,   6.77626358e-21])"
      ]
     },
     "execution_count": 31,
     "metadata": {},
     "output_type": "execute_result"
    }
   ],
   "source": [
    "allf['inputs'][0]"
   ]
  },
  {
   "cell_type": "code",
   "execution_count": 34,
   "metadata": {
    "collapsed": false
   },
   "outputs": [
    {
     "data": {
      "text/plain": [
       "<_sre.SRE_Match at 0x106614920>"
      ]
     },
     "execution_count": 34,
     "metadata": {},
     "output_type": "execute_result"
    }
   ],
   "source": [
    "re.match(r'd\\d','d1')"
   ]
  },
  {
   "cell_type": "code",
   "execution_count": 35,
   "metadata": {
    "collapsed": true
   },
   "outputs": [],
   "source": [
    "%run write_mat.py"
   ]
  },
  {
   "cell_type": "code",
   "execution_count": 36,
   "metadata": {
    "collapsed": false
   },
   "outputs": [
    {
     "name": "stdout",
     "output_type": "stream",
     "text": [
      "Error percent : 24.8447204969\n"
     ]
    }
   ],
   "source": [
    "%run svm_1.py"
   ]
  },
  {
   "cell_type": "code",
   "execution_count": 37,
   "metadata": {
    "collapsed": false
   },
   "outputs": [
    {
     "data": {
      "text/plain": [
       "array([ -6.24545679,  -0.7109509 ,  -5.4403286 ,  60.02294948, -13.88056216])"
      ]
     },
     "execution_count": 37,
     "metadata": {},
     "output_type": "execute_result"
    }
   ],
   "source": [
    "allf['inputs'][0]"
   ]
  },
  {
   "cell_type": "code",
   "execution_count": 5,
   "metadata": {
    "collapsed": false
   },
   "outputs": [],
   "source": [
    "# %load load.py\n",
    "from __future__ import  division\n",
    "import numpy as np\n",
    "import scipy as sp\n",
    "%matplotlib inline\n",
    "from matplotlib import pyplot as plt\n",
    "import scipy.io\n",
    "import sklearn\n",
    "from sklearn import svm"
   ]
  },
  {
   "cell_type": "code",
   "execution_count": 6,
   "metadata": {
    "collapsed": true
   },
   "outputs": [],
   "source": [
    "filename = 'feature_data/features.mat'\n",
    "\n",
    "data = scipy.io.loadmat(filename)\n"
   ]
  },
  {
   "cell_type": "code",
   "execution_count": 9,
   "metadata": {
    "collapsed": false
   },
   "outputs": [
    {
     "data": {
      "text/plain": [
       "1287"
      ]
     },
     "execution_count": 9,
     "metadata": {},
     "output_type": "execute_result"
    }
   ],
   "source": [
    "len(data['inputs'])"
   ]
  },
  {
   "cell_type": "code",
   "execution_count": 19,
   "metadata": {
    "collapsed": false
   },
   "outputs": [
    {
     "data": {
      "text/plain": [
       "12"
      ]
     },
     "execution_count": 19,
     "metadata": {},
     "output_type": "execute_result"
    }
   ],
   "source": [
    "len(data['inputs'][0])"
   ]
  },
  {
   "cell_type": "code",
   "execution_count": 73,
   "metadata": {
    "collapsed": false
   },
   "outputs": [
    {
     "name": "stdout",
     "output_type": "stream",
     "text": [
      "Overwriting normalize_data.py\n"
     ]
    }
   ],
   "source": [
    "%%writefile normalize_data.py\n",
    "import numpy as np\n",
    "import scipy as sp\n",
    "import scipy.io\n",
    "\n",
    "\n",
    "filename = 'feature_data/features.mat'\n",
    "\n",
    "data = scipy.io.loadmat(filename)\n",
    "inputs = data['inputs']\n",
    "feature_number = len(inputs[0]) # number of features per vector\n",
    "\n",
    "norma_val = 10 # normalize value\n",
    "\n",
    "max_value = np.zeros(feature_number) # maximum value of ith feature\n",
    "f_value = np.zeros((feature_number,len(inputs) ))\n",
    "\n",
    "#n_inputs = np.zeros((len(inputs,feature_number))) # normalize inputs\n",
    "\n",
    "## find maximum values of each feature\n",
    "for i in xrange(feature_number):\n",
    "    max_value[i] = np.max( [ abs(k[i]) for k in inputs ] )\n",
    "    weight = norma_val/max_value[i] # normalize between +- 10\n",
    "    f_value[i] = np.array([ k[i]*weight for k in inputs ])\n",
    "    \n",
    "n_inputs = zip( *f_value[:] )\n",
    "scipy.io.savemat('feature_data/normal_features.mat',mdict={'inputs':n_inputs,'targets':data['targets']})"
   ]
  },
  {
   "cell_type": "code",
   "execution_count": 74,
   "metadata": {
    "collapsed": false
   },
   "outputs": [],
   "source": [
    "%run normalize_data.py"
   ]
  },
  {
   "cell_type": "code",
   "execution_count": 67,
   "metadata": {
    "collapsed": false
   },
   "outputs": [
    {
     "data": {
      "text/plain": [
       "[(2.308580718377684e-05,\n",
       "  -7.642970757540736,\n",
       "  0.58694520920138893,\n",
       "  -3.7021404006874725,\n",
       "  -7.421810782576487,\n",
       "  9.9997853621218802,\n",
       "  9.999785362121882,\n",
       "  -7.9153431200420208,\n",
       "  2.9662562577317188e-05,\n",
       "  9.2463373018116909e-05,\n",
       "  0.0002685655344794162,\n",
       "  3.2653061224489797),\n",
       " (7.7994476020605941e-06,\n",
       "  -7.7845602745017279,\n",
       "  0.45976486738977146,\n",
       "  -2.9947866737450086,\n",
       "  -7.6473984413556035,\n",
       "  9.9997890116431005,\n",
       "  9.9997890116431059,\n",
       "  -7.9413374447552512,\n",
       "  5.4394972213150739e-05,\n",
       "  0.00038694812453202941,\n",
       "  0.0002195896311967349,\n",
       "  7.3469387755102051)]"
      ]
     },
     "execution_count": 67,
     "metadata": {},
     "output_type": "execute_result"
    }
   ],
   "source": [
    "n_inputs[:2]"
   ]
  },
  {
   "cell_type": "code",
   "execution_count": 68,
   "metadata": {
    "collapsed": false
   },
   "outputs": [
    {
     "data": {
      "text/plain": [
       "array([[  2.44786106e-07,  -6.24545679e+00,   2.83540091e-03,\n",
       "         -7.10950898e-01,  -5.44032860e+00,   6.00229495e+01,\n",
       "          6.00229495e+01,  -1.38805622e+01,   9.85148921e-08,\n",
       "          4.48663767e-08,   2.93325059e-07,   8.33851424e-28],\n",
       "       [  8.27000065e-08,  -6.36115672e+00,   2.22102115e-03,\n",
       "         -5.75112244e-01,  -5.60568865e+00,   6.00229714e+01,\n",
       "          6.00229714e+01,  -1.39261465e+01,   1.80655829e-07,\n",
       "          1.87760404e-07,   2.39833982e-07,   1.87616570e-27]])"
      ]
     },
     "execution_count": 68,
     "metadata": {},
     "output_type": "execute_result"
    }
   ],
   "source": [
    "inputs[:2]"
   ]
  },
  {
   "cell_type": "code",
   "execution_count": 69,
   "metadata": {
    "collapsed": false
   },
   "outputs": [
    {
     "data": {
      "text/plain": [
       "array([  1.06033159e-01,   8.17150423e+00,   4.83077614e-02,\n",
       "         1.92037800e+00,   7.33019038e+00,   6.00242378e+01,\n",
       "         6.00242378e+01,   1.75362735e+01,   3.32118615e-02,\n",
       "         4.85234047e-03,   1.09219174e-02,   2.55366999e-27])"
      ]
     },
     "execution_count": 69,
     "metadata": {},
     "output_type": "execute_result"
    }
   ],
   "source": [
    "max_value"
   ]
  },
  {
   "cell_type": "code",
   "execution_count": 70,
   "metadata": {
    "collapsed": false
   },
   "outputs": [
    {
     "data": {
      "text/plain": [
       "2.3085807183776839e-06"
      ]
     },
     "execution_count": 70,
     "metadata": {},
     "output_type": "execute_result"
    }
   ],
   "source": [
    "inputs[0][0]/max_value[0]"
   ]
  },
  {
   "cell_type": "code",
   "execution_count": 49,
   "metadata": {
    "collapsed": true
   },
   "outputs": [],
   "source": [
    "a[:][0]=2"
   ]
  },
  {
   "cell_type": "code",
   "execution_count": 50,
   "metadata": {
    "collapsed": false
   },
   "outputs": [
    {
     "data": {
      "text/plain": [
       "array([[ 2.,  2.,  2.],\n",
       "       [ 2.,  3.,  4.]])"
      ]
     },
     "execution_count": 50,
     "metadata": {},
     "output_type": "execute_result"
    }
   ],
   "source": [
    "a"
   ]
  },
  {
   "cell_type": "code",
   "execution_count": 51,
   "metadata": {
    "collapsed": true
   },
   "outputs": [],
   "source": [
    "a[:][1]=3"
   ]
  },
  {
   "cell_type": "code",
   "execution_count": 52,
   "metadata": {
    "collapsed": false
   },
   "outputs": [
    {
     "data": {
      "text/plain": [
       "array([[ 2.,  2.,  2.],\n",
       "       [ 3.,  3.,  3.]])"
      ]
     },
     "execution_count": 52,
     "metadata": {},
     "output_type": "execute_result"
    }
   ],
   "source": [
    "a"
   ]
  },
  {
   "cell_type": "code",
   "execution_count": 53,
   "metadata": {
    "collapsed": false
   },
   "outputs": [
    {
     "data": {
      "text/plain": [
       "3.0"
      ]
     },
     "execution_count": 53,
     "metadata": {},
     "output_type": "execute_result"
    }
   ],
   "source": [
    "a[1][2]"
   ]
  },
  {
   "cell_type": "code",
   "execution_count": 58,
   "metadata": {
    "collapsed": false
   },
   "outputs": [
    {
     "data": {
      "text/plain": [
       "[(2.0, 3.0), (2.0, 3.0), (2.0, 3.0)]"
      ]
     },
     "execution_count": 58,
     "metadata": {},
     "output_type": "execute_result"
    }
   ],
   "source": [
    "zip( *a[:] )"
   ]
  },
  {
   "cell_type": "code",
   "execution_count": 55,
   "metadata": {
    "collapsed": false
   },
   "outputs": [
    {
     "data": {
      "text/plain": [
       "array([[  2.44786106e-07,  -6.24545679e+00,   2.83540091e-03, ...,\n",
       "          4.48663767e-08,   2.93325059e-07,   8.33851424e-28],\n",
       "       [  8.27000065e-08,  -6.36115672e+00,   2.22102115e-03, ...,\n",
       "          1.87760404e-07,   2.39833982e-07,   1.87616570e-27],\n",
       "       [  9.57166006e-09,  -6.50407888e+00,   1.92392930e-03, ...,\n",
       "          1.33905844e-08,   1.28066762e-07,   8.33851424e-28],\n",
       "       ..., \n",
       "       [  1.35053314e-03,  -4.53467648e+00,   0.00000000e+00, ...,\n",
       "          2.16573685e-05,   3.88656197e-05,   5.21157140e-29],\n",
       "       [  2.07641384e-04,  -4.51716009e+00,   0.00000000e+00, ...,\n",
       "          3.19815998e-05,   2.39118764e-05,   2.08462856e-28],\n",
       "       [  6.87735486e-05,  -4.94758398e+00,   4.14913168e-06, ...,\n",
       "          6.54402088e-06,   2.91970820e-05,   8.33851424e-28]])"
      ]
     },
     "execution_count": 55,
     "metadata": {},
     "output_type": "execute_result"
    }
   ],
   "source": [
    "inputs"
   ]
  },
  {
   "cell_type": "code",
   "execution_count": 75,
   "metadata": {
    "collapsed": true
   },
   "outputs": [],
   "source": [
    "dat = scipy.io.loadmat('feature_data/normal_features.mat')"
   ]
  },
  {
   "cell_type": "code",
   "execution_count": 79,
   "metadata": {
    "collapsed": false
   },
   "outputs": [
    {
     "data": {
      "text/plain": [
       "1287"
      ]
     },
     "execution_count": 79,
     "metadata": {},
     "output_type": "execute_result"
    }
   ],
   "source": [
    "len(dat['inputs'])"
   ]
  },
  {
   "cell_type": "code",
   "execution_count": 80,
   "metadata": {
    "collapsed": true
   },
   "outputs": [],
   "source": [
    "dat = scipy.io.loadmat('feature_data/features.mat')"
   ]
  },
  {
   "cell_type": "code",
   "execution_count": 81,
   "metadata": {
    "collapsed": false
   },
   "outputs": [
    {
     "data": {
      "text/plain": [
       "1287"
      ]
     },
     "execution_count": 81,
     "metadata": {},
     "output_type": "execute_result"
    }
   ],
   "source": [
    "len(dat['inputs'])"
   ]
  },
  {
   "cell_type": "code",
   "execution_count": 85,
   "metadata": {
    "collapsed": false
   },
   "outputs": [
    {
     "name": "stdout",
     "output_type": "stream",
     "text": [
      "Error percent : 36.9565217391\n"
     ]
    }
   ],
   "source": [
    "%run svm_1.py"
   ]
  },
  {
   "cell_type": "code",
   "execution_count": 86,
   "metadata": {
    "collapsed": false
   },
   "outputs": [
    {
     "data": {
      "text/plain": [
       "array([[-7.64297076, -3.7021404 , -7.42181078,  9.99978536,  9.99978536,\n",
       "        -7.91534312,  3.26530612],\n",
       "       [-7.78456027, -2.99478667, -7.64739844,  9.99978901,  9.99978901,\n",
       "        -7.94133744,  7.34693878],\n",
       "       [-7.95946339, -3.28995024, -8.08879023,  9.99969915,  9.99969915,\n",
       "        -8.28361651,  3.26530612]])"
      ]
     },
     "execution_count": 86,
     "metadata": {},
     "output_type": "execute_result"
    }
   ],
   "source": [
    "allf['inputs'][:3]"
   ]
  },
  {
   "cell_type": "code",
   "execution_count": null,
   "metadata": {
    "collapsed": true
   },
   "outputs": [],
   "source": []
  }
 ],
 "metadata": {
  "kernelspec": {
   "display_name": "Python 2",
   "language": "python",
   "name": "python2"
  },
  "language_info": {
   "codemirror_mode": {
    "name": "ipython",
    "version": 2
   },
   "file_extension": ".py",
   "mimetype": "text/x-python",
   "name": "python",
   "nbconvert_exporter": "python",
   "pygments_lexer": "ipython2",
   "version": "2.7.6"
  }
 },
 "nbformat": 4,
 "nbformat_minor": 0
}
