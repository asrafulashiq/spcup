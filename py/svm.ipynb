{
 "cells": [
  {
   "cell_type": "code",
   "execution_count": 2,
   "metadata": {
    "collapsed": true
   },
   "outputs": [],
   "source": [
    "# %load write_mat.py\n",
    "##\n",
    "#   load .mat files and write the contens to a \n",
    "#   .mat file.\n",
    "#    the files has two fields - 'inputs' and 'targets'  \n",
    "#   'inputs' is a numpy array of tuples\n",
    "#   'targets' is from 0 to 7 (for grid 'A' to 'H')\n",
    "\n",
    "import scipy.io\n",
    "import numpy as np\n",
    "import os.path\n",
    "import re\n",
    "\n",
    "inputs = []\n",
    "targets = []\n",
    "\n",
    "def init():\n",
    "    inputs = []\n",
    "    targets = []\n",
    "\n",
    "def loadMat(file):\n",
    "    '''\n",
    "     load matfile named 'file' ..\n",
    "    '''\n",
    "    return scipy.io.loadmat(file)\n",
    "\n",
    "def load_local_features(data,target_value):\n",
    "    ''' load local features from data '''\n",
    "    feature_name = []\n",
    "\n",
    "    # extract the local feature name\n",
    "    for i in data:\n",
    "        if not re.match(r'__*',i) and i!='F' :\n",
    "            if not re.match(r'global*',i): # skipping global feature\n",
    "                if not re.match(r'wav_var',i) : \n",
    "                #if re.match(r'mean',i) or re.match(r'diff',i) or re.match(r'range',i):\n",
    "                    feature_name.append(i)\n",
    "    input  = zip( *[ data[i][0] for i in feature_name ])\n",
    "\n",
    "    target =  [[target_value] for i in xrange(len(input))] \n",
    "\n",
    "    inputs.extend(input)\n",
    "    targets.extend(target)\n",
    "\n",
    "def write_to_file(filename):\n",
    "    '''\n",
    "        write inputs and targets to a filename .mat file\n",
    "     '''\n",
    "    #np.savez(filename,inputs,targets)\n",
    "    scipy.io.savemat(filename, mdict = {'inputs':inputs,'targets':targets} )\n",
    "\n",
    "\n",
    "\n",
    "def main():\n",
    "    grids = ['A','B','C','D','E','F','G','H'];\n",
    "    init()\n",
    "\n",
    "    for grid in grids:\n",
    "        #filename = '../feature_data/matfile/{0}/{0}_P{1}.mat'\\\n",
    "        #.format(grid,i)\n",
    "        filename = '../mat/me/features/Grid{0}.mat'\\\n",
    "            .format(grid)\n",
    "        if os.path.exists(filename):\n",
    "            load_local_features(\n",
    "                loadMat(filename), ord(grid)-ord('A')\n",
    "            )\n",
    "    file_to_save = 'feature_data/features.mat'\n",
    "    write_to_file(file_to_save)\n",
    "\n",
    "if __name__ == '__main__':\n",
    "    main()\n",
    "\n",
    "\n",
    "\n",
    "\n",
    "\n",
    "\n",
    " "
   ]
  },
  {
   "cell_type": "code",
   "execution_count": 3,
   "metadata": {
    "collapsed": true
   },
   "outputs": [],
   "source": [
    "main()"
   ]
  },
  {
   "cell_type": "code",
   "execution_count": 8,
   "metadata": {
    "collapsed": false
   },
   "outputs": [
    {
     "name": "stdout",
     "output_type": "stream",
     "text": [
      "Error percent : 23.1366459627\n"
     ]
    }
   ],
   "source": [
    "# %load svm_1.py\n",
    "from __future__ import division\n",
    "import scipy.io\n",
    "import numpy as np\n",
    "import scipy as sp\n",
    "import sys\n",
    "import random\n",
    "from sklearn import svm\n",
    "\n",
    "allf = scipy.io.loadmat('feature_data/features.mat')\n",
    "inputs = allf['inputs']\n",
    "targets = allf['targets']\n",
    "\n",
    "assert len(inputs)==len(targets)\n",
    "percent = 0.75 # default 75% train data\n",
    "\n",
    "#if len(sys.argv)>1:\n",
    "#    percent = float(sys.argv[1])\n",
    "\n",
    "z = zip(inputs,targets)\n",
    "random.shuffle(z)\n",
    "\n",
    "train_last_index = int( percent * len(z) )\n",
    "\n",
    "# train inputs\n",
    "X = np.array([ z[i][0] for i in xrange(train_last_index) ])\n",
    "Y = np.array([ int(z[i][1]) for i in xrange(train_last_index) ])\n",
    "\n",
    "assert len(X)==len(Y)\n",
    "\n",
    "clf = svm.SVC()\n",
    "clf.fit(X,Y)\n",
    "\n",
    "test_x = np.array([ z[i][0] for i in xrange( train_last_index,len(z) )  ])\n",
    "test_y = np.array([ int(z[i][1]) for i in xrange(train_last_index,len(z)) ])\n",
    "\n",
    "pr = clf.predict(test_x)\n",
    "\n",
    "d = abs(pr-test_y)\n",
    "\n",
    "s = sum([1  for i in d if i!=0])\n",
    "\n",
    "print 'Error percent :',s/len(d)*100\n",
    "\n"
   ]
  },
  {
   "cell_type": "code",
   "execution_count": null,
   "metadata": {
    "collapsed": true
   },
   "outputs": [],
   "source": []
  },
  {
   "cell_type": "code",
   "execution_count": 18,
   "metadata": {
    "collapsed": false
   },
   "outputs": [
    {
     "name": "stdout",
     "output_type": "stream",
     "text": [
      "Error percent : 21.5838509317\n"
     ]
    }
   ],
   "source": [
    "%run svm_1.py"
   ]
  },
  {
   "cell_type": "code",
   "execution_count": 19,
   "metadata": {
    "collapsed": false
   },
   "outputs": [
    {
     "data": {
      "text/plain": [
       "array([ -6.24545679,  -0.7109509 ,  -5.4403286 ,  60.02294948,\n",
       "        60.02294948, -13.88056216])"
      ]
     },
     "execution_count": 19,
     "metadata": {},
     "output_type": "execute_result"
    }
   ],
   "source": [
    "allf['inputs'][0]"
   ]
  },
  {
   "cell_type": "code",
   "execution_count": 20,
   "metadata": {
    "collapsed": true
   },
   "outputs": [],
   "source": [
    "%run write_mat.py"
   ]
  },
  {
   "cell_type": "code",
   "execution_count": 26,
   "metadata": {
    "collapsed": false
   },
   "outputs": [
    {
     "name": "stdout",
     "output_type": "stream",
     "text": [
      "Error percent : 28.2608695652\n"
     ]
    }
   ],
   "source": [
    "%run svm_1.py"
   ]
  },
  {
   "cell_type": "code",
   "execution_count": 24,
   "metadata": {
    "collapsed": false
   },
   "outputs": [
    {
     "data": {
      "text/plain": [
       "array([[ -6.24545679,  -0.7109509 ,  -5.4403286 , ...,  60.02294948,\n",
       "        -13.88056216, -62.35149755],\n",
       "       [ -6.36115672,  -0.57511224,  -5.60568865, ...,  60.02297139,\n",
       "        -13.92614652, -61.54056734],\n",
       "       [ -6.50407888,  -0.63179481,  -5.92923723, ...,  60.02243203,\n",
       "        -14.52637645, -62.35149755],\n",
       "       ..., \n",
       "       [ -4.53467648,  -1.65715016,  -2.21450199, ...,  50.04282168,\n",
       "         -6.42760601, -65.12408627],\n",
       "       [ -4.51716009,  -1.73587005,  -2.80303806, ...,  49.98749974,\n",
       "         -8.04276505, -63.73779191],\n",
       "       [ -4.94758398,  -1.38298702,  -3.09736442, ...,  49.92780845,\n",
       "         -8.69964734, -62.35149755]])"
      ]
     },
     "execution_count": 24,
     "metadata": {},
     "output_type": "execute_result"
    }
   ],
   "source": [
    "allf['inputs']"
   ]
  },
  {
   "cell_type": "code",
   "execution_count": 27,
   "metadata": {
    "collapsed": false
   },
   "outputs": [
    {
     "data": {
      "text/plain": [
       "array([ -6.24545679e+00,  -7.10950898e-01,  -5.44032860e+00,\n",
       "         6.00229495e+01,   6.00229495e+01,  -1.38805622e+01,\n",
       "         8.33851424e-28])"
      ]
     },
     "execution_count": 27,
     "metadata": {},
     "output_type": "execute_result"
    }
   ],
   "source": [
    "allf['inputs'][0]"
   ]
  },
  {
   "cell_type": "code",
   "execution_count": 30,
   "metadata": {
    "collapsed": false
   },
   "outputs": [
    {
     "name": "stdout",
     "output_type": "stream",
     "text": [
      "Error percent : 34.4720496894\n"
     ]
    }
   ],
   "source": [
    "%run svm_1.py"
   ]
  },
  {
   "cell_type": "code",
   "execution_count": 31,
   "metadata": {
    "collapsed": false
   },
   "outputs": [
    {
     "data": {
      "text/plain": [
       "array([ -3.38813179e-21,   2.83540091e-03,  -7.10950898e-01,\n",
       "        -5.44032860e+00,   6.00229495e+01,  -1.38805622e+01,\n",
       "         3.38813179e-21,   0.00000000e+00,   6.77626358e-21])"
      ]
     },
     "execution_count": 31,
     "metadata": {},
     "output_type": "execute_result"
    }
   ],
   "source": [
    "allf['inputs'][0]"
   ]
  },
  {
   "cell_type": "code",
   "execution_count": 34,
   "metadata": {
    "collapsed": false
   },
   "outputs": [
    {
     "data": {
      "text/plain": [
       "<_sre.SRE_Match at 0x106614920>"
      ]
     },
     "execution_count": 34,
     "metadata": {},
     "output_type": "execute_result"
    }
   ],
   "source": [
    "re.match(r'd\\d','d1')"
   ]
  },
  {
   "cell_type": "code",
   "execution_count": 35,
   "metadata": {
    "collapsed": true
   },
   "outputs": [],
   "source": [
    "%run write_mat.py"
   ]
  },
  {
   "cell_type": "code",
   "execution_count": 36,
   "metadata": {
    "collapsed": false
   },
   "outputs": [
    {
     "name": "stdout",
     "output_type": "stream",
     "text": [
      "Error percent : 24.8447204969\n"
     ]
    }
   ],
   "source": [
    "%run svm_1.py"
   ]
  },
  {
   "cell_type": "code",
   "execution_count": 37,
   "metadata": {
    "collapsed": false
   },
   "outputs": [
    {
     "data": {
      "text/plain": [
       "array([ -6.24545679,  -0.7109509 ,  -5.4403286 ,  60.02294948, -13.88056216])"
      ]
     },
     "execution_count": 37,
     "metadata": {},
     "output_type": "execute_result"
    }
   ],
   "source": [
    "allf['inputs'][0]"
   ]
  },
  {
   "cell_type": "code",
   "execution_count": null,
   "metadata": {
    "collapsed": true
   },
   "outputs": [],
   "source": []
  }
 ],
 "metadata": {
  "kernelspec": {
   "display_name": "Python 2",
   "language": "python",
   "name": "python2"
  },
  "language_info": {
   "codemirror_mode": {
    "name": "ipython",
    "version": 2
   },
   "file_extension": ".py",
   "mimetype": "text/x-python",
   "name": "python",
   "nbconvert_exporter": "python",
   "pygments_lexer": "ipython2",
   "version": "2.7.6"
  }
 },
 "nbformat": 4,
 "nbformat_minor": 0
}
