{
 "cells": [
  {
   "cell_type": "code",
   "execution_count": 30,
   "metadata": {
    "collapsed": false
   },
   "outputs": [
    {
     "name": "stdout",
     "output_type": "stream",
     "text": [
      "Overwriting load.py\n"
     ]
    }
   ],
   "source": [
    "%%writefile load.py\n",
    "from __future__ import  division\n",
    "import numpy as np\n",
    "import scipy as sp\n",
    "import sklearn\n",
    "from matplotlib import  pyplot as plt\n",
    "%matplotlib inline\n",
    "import mpld3\n",
    "mpld3.enable_notebook()\n",
    "import scipy.io\n",
    "import os"
   ]
  },
  {
   "cell_type": "code",
   "execution_count": 32,
   "metadata": {
    "collapsed": false
   },
   "outputs": [],
   "source": [
    "# %load load.py\n",
    "from __future__ import  division\n",
    "import numpy as np\n",
    "import scipy as sp\n",
    "import sklearn\n",
    "from matplotlib import  pyplot as plt\n",
    "%matplotlib inline\n",
    "import mpld3\n",
    "mpld3.enable_notebook()\n",
    "import scipy.io\n",
    "import os"
   ]
  },
  {
   "cell_type": "code",
   "execution_count": 111,
   "metadata": {
    "collapsed": true
   },
   "outputs": [],
   "source": [
    "## data extraction\n",
    "\n",
    "def merge_features(filename):\n",
    "    assert os.path.exists(filename),\"file %s not exist\"%(filename)\n",
    "    \n",
    "    all_data = scipy.io.loadmat(filename) # load file\n",
    "    \n",
    "    features_name = ['diff_x','AR_coef','mean_x','range','var_x','wav_coef','wavcoef_n']\n",
    "    \n",
    "    win_len = len(all_data['mean_x'][0])\n",
    "    \n",
    "    list_of_features = []\n",
    "    \n",
    "    for i in xrange(win_len):\n",
    "        tmp = []\n",
    "        \n",
    "        for feature in features_name:\n",
    "            if feature=='wav_coef' or feature=='wavcoef_n' or feature=='AR_coef':\n",
    "                for j in xrange(len(all_data[feature])):\n",
    "                    tmp.append( all_data[feature][j][i] )\n",
    "            else:\n",
    "                tmp.append(all_data[feature][0][i])\n",
    "                \n",
    "        list_of_features.append(tmp)\n",
    "    return list_of_features"
   ]
  },
  {
   "cell_type": "code",
   "execution_count": 121,
   "metadata": {
    "collapsed": false
   },
   "outputs": [],
   "source": [
    "filename = '../../mat/me/win_2000/A/AP1.mat'"
   ]
  },
  {
   "cell_type": "code",
   "execution_count": 129,
   "metadata": {
    "collapsed": false
   },
   "outputs": [
    {
     "name": "stdout",
     "output_type": "stream",
     "text": [
      "../../mat/me/win_2000/A/AP10.mat  does not exist\n",
      "../../mat/me/win_2000/A/AP11.mat  does not exist\n",
      "../../mat/me/win_2000/B/BP11.mat  does not exist\n",
      "../../mat/me/win_2000/F/FP9.mat  does not exist\n",
      "../../mat/me/win_2000/F/FP10.mat  does not exist\n",
      "../../mat/me/win_2000/F/FP11.mat  does not exist\n"
     ]
    }
   ],
   "source": [
    "# get all features\n",
    "\n",
    "grids = ['A','B','C','D','E','F','G','H','I'];\n",
    "count = 12\n",
    "\n",
    "inputs = []\n",
    "targets = []\n",
    "\n",
    "for grid in grids:\n",
    "    \n",
    "    for i in xrange(1,count):\n",
    "        filename = '../../mat/me/win_2000/{0}/{0}P{1}.mat'.format(grid,i)\n",
    "        if os.path.exists(filename):\n",
    "            \n",
    "            feat = merge_features(filename)\n",
    "            length = len(feat)\n",
    "            tar_num = ord(grid)-ord('A')\n",
    "            tar = np.array([ tar_num for i in xrange(length) ])\n",
    "            \n",
    "            inputs.extend(feat)\n",
    "            targets.extend(tar)\n",
    "            \n",
    "        else:\n",
    "            print filename,' does not exist'\n"
   ]
  },
  {
   "cell_type": "code",
   "execution_count": 131,
   "metadata": {
    "collapsed": false
   },
   "outputs": [
    {
     "data": {
      "text/plain": [
       "3276"
      ]
     },
     "execution_count": 131,
     "metadata": {},
     "output_type": "execute_result"
    }
   ],
   "source": [
    "len(inputs)"
   ]
  },
  {
   "cell_type": "code",
   "execution_count": 133,
   "metadata": {
    "collapsed": false
   },
   "outputs": [
    {
     "name": "stdout",
     "output_type": "stream",
     "text": [
      "../../mat/me/win_2000/A/AP10.mat  does not exist\n",
      "../../mat/me/win_2000/A/AP11.mat  does not exist\n",
      "../../mat/me/win_2000/B/BP11.mat  does not exist\n",
      "../../mat/me/win_2000/F/FP9.mat  does not exist\n",
      "../../mat/me/win_2000/F/FP10.mat  does not exist\n",
      "../../mat/me/win_2000/F/FP11.mat  does not exist\n"
     ]
    }
   ],
   "source": [
    "%run make_inp_targets.py"
   ]
  },
  {
   "cell_type": "code",
   "execution_count": 134,
   "metadata": {
    "collapsed": false
   },
   "outputs": [
    {
     "name": "stdout",
     "output_type": "stream",
     "text": [
      "../../mat/me/win_2000/A/AP10.mat  does not exist\n",
      "../../mat/me/win_2000/A/AP11.mat  does not exist\n",
      "../../mat/me/win_2000/B/BP11.mat  does not exist\n",
      "../../mat/me/win_2000/F/FP9.mat  does not exist\n",
      "../../mat/me/win_2000/F/FP10.mat  does not exist\n",
      "../../mat/me/win_2000/F/FP11.mat  does not exist\n"
     ]
    }
   ],
   "source": [
    "import make_inp_targets"
   ]
  },
  {
   "cell_type": "code",
   "execution_count": 136,
   "metadata": {
    "collapsed": true
   },
   "outputs": [],
   "source": [
    "scipy.io.loadmat?"
   ]
  },
  {
   "cell_type": "code",
   "execution_count": 167,
   "metadata": {
    "collapsed": false
   },
   "outputs": [
    {
     "name": "stderr",
     "output_type": "stream",
     "text": [
      "/Users/mac/miniconda/lib/python2.7/site-packages/sklearn/cross_validation.py:69: DeprecationWarning: The indices parameter is deprecated and will be removed (assumed True) in 0.17\n",
      "  stacklevel=1)\n"
     ]
    },
    {
     "data": {
      "text/plain": [
       "array([  0.        ,   3.65853659,   7.92682927,  88.1097561 ,\n",
       "        64.93902439,  33.23170732,  31.19266055,  39.14373089,\n",
       "        28.13455657,   0.        ])"
      ]
     },
     "execution_count": 167,
     "metadata": {},
     "output_type": "execute_result"
    }
   ],
   "source": [
    "# %load mysvm.py\n",
    "\n",
    "## helper library\n",
    "\n",
    "import helper_fun\n",
    "\n",
    "\n",
    "## standard library\n",
    "\n",
    "from sklearn import preprocessing,cross_validation,svm\n",
    "\n",
    "\n",
    "### get inputs and targets\n",
    "\n",
    "filename = 'features.mat'\n",
    "allf = scipy.io.loadmat(filename)\n",
    "inputs = allf['inputs']\n",
    "targets = allf['targets'][0]\n",
    "\n",
    "\n",
    "### preprocessing\n",
    "\n",
    "inputs_scaled = preprocessing.scale(inputs)\n",
    "\n",
    "### cross validation\n",
    "\n",
    "kftotal = cross_validation.KFold(\n",
    "        len(inputs),n_folds = 10, indices = True, shuffle=False\n",
    "    )\n",
    "\n",
    "\n",
    "clf = svm.SVC()\n",
    "\n",
    "cross_validation.cross_val_score( clf,inputs_scaled,targets, cv = kftotal, n_jobs = 1 )*100\n",
    "\n"
   ]
  },
  {
   "cell_type": "code",
   "execution_count": 168,
   "metadata": {
    "collapsed": false
   },
   "outputs": [
    {
     "name": "stdout",
     "output_type": "stream",
     "text": [
      "0.0\n",
      "92.6829268293\n",
      "8.84146341463\n",
      "59.1463414634\n",
      "28.0487804878\n",
      "1.5243902439\n",
      "15.2905198777\n",
      "30.8868501529\n",
      "41.5902140673\n",
      "0.0\n"
     ]
    }
   ],
   "source": [
    "for train_indices,test_indices in kftotal:\n",
    "    print  clf.fit( inputs[train_indices],targets[train_indices] ).score(inputs[test_indices],targets[test_indices])*100\n",
    "    "
   ]
  },
  {
   "cell_type": "code",
   "execution_count": 256,
   "metadata": {
    "collapsed": false
   },
   "outputs": [],
   "source": [
    "# %load mysvm.py\n",
    "\n",
    "## helper library\n",
    "\n",
    "import helper_fun\n",
    "\n",
    "\n",
    "## standard library\n",
    "\n",
    "from sklearn import preprocessing,cross_validation,svm,grid_search\n",
    "from sklearn.grid_search import GridSearchCV\n",
    "\n",
    "### get inputs and targets\n",
    "\n",
    "filename = 'features.mat'\n",
    "allf = scipy.io.loadmat(filename)\n",
    "inputs = allf['inputs']\n",
    "targets = allf['targets'][0]\n",
    "\n",
    "\n",
    "### preprocessing\n",
    "\n",
    "inputs_scaled = preprocessing.scale(inputs)\n",
    "\n",
    "### cross validation\n",
    "\n",
    "kftotal = cross_validation.KFold(\n",
    "        len(inputs),n_folds = 10, shuffle=False\n",
    "    )\n",
    "\n",
    "#clf = svm.SVC()\n",
    "\n",
    "#cross_validation.cross_val_score( clf,inputs_scaled,targets, cv = kftotal, n_jobs = 1 )\n",
    "\n",
    "\n",
    "### rbf\n",
    "\n",
    "C_range = np.logspace(-2, 10, 13)\n",
    "gamma_range = np.logspace(-9, 3, 13)\n",
    "param_grid = dict(gamma=gamma_range, C=C_range)\n",
    "\n",
    "clfgs = GridSearchCV(svm.SVC(), param_grid=param_grid, cv=kftotal)\n",
    "#clfgs = svm.SVC()\n",
    "\n",
    "\n",
    "\n",
    "\n",
    "\n",
    "\n",
    "\n",
    "\n",
    "\n",
    "\n"
   ]
  },
  {
   "cell_type": "code",
   "execution_count": 187,
   "metadata": {
    "collapsed": false
   },
   "outputs": [
    {
     "data": {
      "text/plain": [
       "[0.0, 0.0, 0.0, 0.0, 0.0, 0.0, 0.0, 0.0, 0.0, 0.0]"
      ]
     },
     "execution_count": 187,
     "metadata": {},
     "output_type": "execute_result"
    }
   ],
   "source": [
    "[ clfgs.fit(inputs_scaled[train_indices],targets[train_indices]).score(inputs_scaled[test_indices],targets[test_indices]) for train,test in kftotal ]"
   ]
  },
  {
   "cell_type": "code",
   "execution_count": 202,
   "metadata": {
    "collapsed": true
   },
   "outputs": [],
   "source": [
    "X_train, X_test, y_train, y_test = cross_validation.train_test_split(inputs,targets,test_size=0.3,random_state=0)"
   ]
  },
  {
   "cell_type": "code",
   "execution_count": 203,
   "metadata": {
    "collapsed": false
   },
   "outputs": [
    {
     "data": {
      "text/plain": [
       "2293"
      ]
     },
     "execution_count": 203,
     "metadata": {},
     "output_type": "execute_result"
    }
   ],
   "source": [
    "len(X_train)"
   ]
  },
  {
   "cell_type": "code",
   "execution_count": 213,
   "metadata": {
    "collapsed": false
   },
   "outputs": [],
   "source": [
    "clf = svm.SVC(kernel='rbf',C=0.3,gamma=2).fit(X_train,y_train)"
   ]
  },
  {
   "cell_type": "code",
   "execution_count": 214,
   "metadata": {
    "collapsed": false
   },
   "outputs": [
    {
     "data": {
      "text/plain": [
       "0.79247202441505593"
      ]
     },
     "execution_count": 214,
     "metadata": {},
     "output_type": "execute_result"
    }
   ],
   "source": [
    "clf.score(X_test,y_test)"
   ]
  },
  {
   "cell_type": "code",
   "execution_count": 244,
   "metadata": {
    "collapsed": false
   },
   "outputs": [
    {
     "data": {
      "text/plain": [
       "88.024408848207486"
      ]
     },
     "execution_count": 244,
     "metadata": {},
     "output_type": "execute_result"
    }
   ],
   "source": [
    "X_train, X_test, y_train, y_test = cross_validation.train_test_split(inputs,targets,test_size=0.4,random_state=0)\n",
    "clf = svm.SVC(kernel='rbf',C=100,gamma=2).fit(X_train,y_train)\n",
    "clf.score(X_test,y_test)*100"
   ]
  },
  {
   "cell_type": "code",
   "execution_count": 261,
   "metadata": {
    "collapsed": false
   },
   "outputs": [
    {
     "name": "stdout",
     "output_type": "stream",
     "text": [
      "79.9389778795\n",
      "######\n",
      "A  : \n",
      "total : 132\n",
      "matched : 130\n",
      "efficiency : 98.48 %\n",
      "details :\n",
      "######\n",
      "B  : \n",
      "total : 152\n",
      "matched : 146\n",
      "efficiency : 96.05 %\n",
      "details :\n",
      "######\n",
      "C  : \n",
      "total : 166\n",
      "matched : 101\n",
      "efficiency : 60.84 %\n",
      "details :\n",
      "######\n",
      "D  : \n",
      "total : 164\n",
      "matched : 158\n",
      "efficiency : 96.34 %\n",
      "details :\n",
      "######\n",
      "E  : \n",
      "total : 155\n",
      "matched : 135\n",
      "efficiency : 87.1 %\n",
      "details :\n",
      "######\n",
      "F  : \n",
      "total : 101\n",
      "matched : 73\n",
      "efficiency : 72.28 %\n",
      "details :\n",
      "######\n",
      "G  : \n",
      "total : 146\n",
      "matched : 85\n",
      "efficiency : 58.22 %\n",
      "details :\n",
      "######\n",
      "H  : \n",
      "total : 144\n",
      "matched : 125\n",
      "efficiency : 86.81 %\n",
      "details :\n",
      "######\n",
      "I  : \n",
      "total : 151\n",
      "matched : 95\n",
      "efficiency : 62.91 %\n",
      "details :\n"
     ]
    }
   ],
   "source": [
    "X_train, X_test, y_train, y_test = cross_validation.train_test_split(inputs,targets,test_size=0.4,random_state=0)\n",
    "clf = svm.SVC(kernel='rbf',C=0.4,gamma=2).fit(X_train,y_train)\n",
    "\n",
    "print clf.score(X_test,y_test)*100\n",
    "\n",
    "pr = clf.predict(X_test)\n",
    "tar = y_test        \n",
    "for i in xrange(9):\n",
    "    index = tar==i\n",
    "    m = np.sum(tar==i)\n",
    "    n = np.sum(pr[index]==i)\n",
    "    print '######'\n",
    "    print chr(i+ord('A')),\" : \"\n",
    "    print \"total :\",m\n",
    "    print \"matched :\",n\n",
    "    print \"efficiency :\",round(n*1./m*100,2),\"%\"\n",
    "\n",
    "    print \"details :\"    \n",
    "    #for j in xrange(9):\n",
    "    #    tmp = np.sum(pr[index]==j)\n",
    "    #    print chr(j+ord('A')),\" - \",tmp,\"  \",round(tmp/m*100.0,2),\"%\"  \n"
   ]
  },
  {
   "cell_type": "code",
   "execution_count": null,
   "metadata": {
    "collapsed": false
   },
   "outputs": [],
   "source": []
  },
  {
   "cell_type": "code",
   "execution_count": null,
   "metadata": {
    "collapsed": true
   },
   "outputs": [],
   "source": []
  }
 ],
 "metadata": {
  "kernelspec": {
   "display_name": "Python 2",
   "language": "python",
   "name": "python2"
  },
  "language_info": {
   "codemirror_mode": {
    "name": "ipython",
    "version": 2
   },
   "file_extension": ".py",
   "mimetype": "text/x-python",
   "name": "python",
   "nbconvert_exporter": "python",
   "pygments_lexer": "ipython2",
   "version": "2.7.10"
  }
 },
 "nbformat": 4,
 "nbformat_minor": 0
}
