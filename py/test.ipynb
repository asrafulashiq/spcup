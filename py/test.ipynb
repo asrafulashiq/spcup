{
 "cells": [
  {
   "cell_type": "code",
   "execution_count": 1,
   "metadata": {
    "collapsed": false
   },
   "outputs": [
    {
     "name": "stdout",
     "output_type": "stream",
     "text": [
      "Overwriting load.py\n"
     ]
    }
   ],
   "source": [
    "%%writefile load.py\n",
    "from __future__ import  division\n",
    "import numpy as np\n",
    "import scipy as sp\n",
    "%matplotlib inline\n",
    "from matplotlib import pyplot as plt"
   ]
  },
  {
   "cell_type": "code",
   "execution_count": 3,
   "metadata": {
    "collapsed": true
   },
   "outputs": [],
   "source": [
    "# %load load.py\n",
    "from __future__ import  division\n",
    "import numpy as np\n",
    "import scipy as sp\n",
    "%matplotlib inline\n",
    "from matplotlib import pyplot as plt"
   ]
  },
  {
   "cell_type": "code",
   "execution_count": 4,
   "metadata": {
    "collapsed": false
   },
   "outputs": [
    {
     "data": {
      "text/plain": [
       "<Container object of 3 artists>"
      ]
     },
     "execution_count": 4,
     "metadata": {},
     "output_type": "execute_result"
    },
    {
     "data": {
      "image/png": "[encoded data removed]",
      "text/plain": [
       "<matplotlib.figure.Figure at 0x10525b7d0>"
      ]
     },
     "metadata": {},
     "output_type": "display_data"
    }
   ],
   "source": [
    "a = np.arange(1,10)\n",
    "plt.stem(a)"
   ]
  },
  {
   "cell_type": "code",
   "execution_count": 5,
   "metadata": {
    "collapsed": true
   },
   "outputs": [],
   "source": [
    "import scipy.io"
   ]
  },
  {
   "cell_type": "code",
   "execution_count": 6,
   "metadata": {
    "collapsed": true
   },
   "outputs": [],
   "source": [
    "mat = scipy.io.loadmat?"
   ]
  },
  {
   "cell_type": "code",
   "execution_count": 11,
   "metadata": {
    "collapsed": true
   },
   "outputs": [],
   "source": [
    "mat = scipy.io.loadmat('A_P4.mat')"
   ]
  },
  {
   "cell_type": "code",
   "execution_count": 12,
   "metadata": {
    "collapsed": false
   },
   "outputs": [
    {
     "data": {
      "text/plain": [
       "{'F': array([[ 59.91214667,  60.5390501 ,  61.17437149, ...,  59.98469221,\n",
       "          59.98745747,  59.98834475]]),\n",
       " '__globals__': [],\n",
       " '__header__': 'MATLAB 5.0 MAT-file, Platform: MACI64, Created on: Thu Oct 15 01:06:14 2015',\n",
       " '__version__': '1.0',\n",
       " 'diff_x': array([[ 2.07660301,  0.00570622,  0.00554899,  0.00479986,  0.00627983,\n",
       "          0.0052461 ,  0.00350195,  0.00637648,  0.00620628,  0.00509814,\n",
       "          0.00819387,  0.00437386,  0.00656874,  0.00612325,  0.00579799,\n",
       "          0.00512199,  0.00614638,  0.00472182,  0.0053403 ,  0.00550876,\n",
       "          0.00630594,  0.00600468,  0.00593074,  0.00635653,  0.00389388,\n",
       "          0.00531043,  0.00622019,  0.00595142,  0.00555263,  0.00591864,\n",
       "          0.00578829,  0.0052577 ,  0.003855  ,  0.00608375,  0.00409965,\n",
       "          0.00600515,  0.00519952,  0.00635993,  0.00465021,  0.00516885,\n",
       "          0.00799073,  0.00489028,  0.00563256,  0.00719589,  0.00598026,\n",
       "          0.00781894,  0.00555622,  0.00473745,  0.00561698,  0.00630709,\n",
       "          0.00469614,  0.00605325,  0.00809588,  0.00443818,  0.00578988,\n",
       "          0.00571981,  0.00498652,  0.00575999,  0.00507075,  0.0060339 ,\n",
       "          0.00543873,  0.00530519,  0.00446619,  0.00507365,  0.00564727,\n",
       "          0.00669629,  0.00588654,  0.0051569 ,  0.00554777,  0.00518026,\n",
       "          0.00418611,  0.00771527,  0.00625866,  0.00568896,  0.00430542,\n",
       "          0.00515962,  0.00643361,  0.00559281,  0.00582088,  0.00660302,\n",
       "          0.00588786,  0.00621128,  0.00624363,  0.0065505 ,  0.00612921,\n",
       "          0.00515609,  0.00585146,  0.0070219 ,  0.00627756,  0.00595272,\n",
       "          0.00627054,  0.00669897,  0.00704168]]),\n",
       " 'kurt_x': array([[ 14.97024287,   1.88728204,   1.84664818,   2.92897915,\n",
       "           1.74405275,   2.29863686,   2.0783761 ,   4.17939034,\n",
       "           1.91876541,   2.4873078 ,   2.63682439,   2.93856799,\n",
       "           1.81024027,   2.54105202,   1.8271857 ,   1.83383478,\n",
       "           2.86827048,   1.51174714,   3.04528359,   2.3441415 ,\n",
       "           2.57894621,   2.42053576,   2.10220861,   1.64744312,\n",
       "           1.85112428,   2.30345166,   1.97139011,   1.71625023,\n",
       "           2.69317985,   2.0453832 ,   1.96928422,   4.06127387,\n",
       "           1.78662626,   2.72317951,   2.22803946,   2.52804627,\n",
       "           2.76033429,   1.80660317,   2.21683752,   3.78897529,\n",
       "           2.91506436,   2.27729624,   1.95753369,   3.74624872,\n",
       "           2.44878318,   2.7671026 ,   2.45105324,   2.38392565,\n",
       "           1.83520842,   3.46112497,   2.157673  ,   1.68176255,\n",
       "           3.05931522,   2.46485492,   1.83596703,   2.33512191,\n",
       "           3.00760683,   1.89560072,   1.86361091,   2.89789881,\n",
       "           1.99571154,   1.85523152,   4.0558903 ,   1.83935599,\n",
       "           3.35999303,   3.19086393,   2.14716906,   2.40962745,\n",
       "           2.7645653 ,   1.99663755,   1.78475454,   2.03666984,\n",
       "           1.96897803,   2.19051477,   2.84503107,   2.9951591 ,\n",
       "           2.19123352,   1.67632821,   1.77139385,   2.21834629,\n",
       "           2.37302592,   2.83452542,   1.86856893,   1.83289136,\n",
       "           1.74970566,   1.74770305,   2.23461103,   2.31900204,\n",
       "           1.90833544,   1.72354432,   2.2426743 ,   2.14883213,   2.5394835 ]]),\n",
       " 'mean_x': array([[ 60.13506733,  60.0211571 ,  60.01734258,  60.03665157,\n",
       "          60.02136125,  59.99815207,  59.99314199,  59.99344059,\n",
       "          60.00669282,  60.03090935,  60.02777341,  60.00813622,\n",
       "          60.0171811 ,  60.03368039,  60.02189927,  60.00540699,\n",
       "          60.00434688,  60.01835011,  60.02890345,  60.0228711 ,\n",
       "          60.00430026,  60.0024342 ,  60.02832652,  60.02951733,\n",
       "          60.01222822,  59.99977753,  59.99954483,  60.01534246,\n",
       "          60.03112248,  60.02390667,  60.00562113,  60.00108318,\n",
       "          60.01872661,  60.027226  ,  60.0232435 ,  60.01384224,\n",
       "          59.99968776,  60.00474362,  60.01617931,  60.02001336,\n",
       "          60.015484  ,  60.00930258,  60.0071856 ,  60.0071839 ,\n",
       "          60.0098677 ,  60.02118627,  60.0238815 ,  60.02067022,\n",
       "          60.00971318,  59.99928347,  60.00023801,  59.99358366,\n",
       "          59.98085367,  59.9782592 ,  59.97563491,  59.98391812,\n",
       "          60.00440658,  60.00452325,  60.01210958,  60.03308633,\n",
       "          60.02562432,  60.00468818,  60.00460122,  60.02885345,\n",
       "          60.03703083,  60.0112081 ,  60.0264    ,  60.03591315,\n",
       "          60.01024523,  60.00955014,  60.02851633,  60.02811756,\n",
       "          60.00600745,  59.99168836,  59.98757299,  59.98682861,\n",
       "          59.99182547,  59.96624628,  59.96234338,  59.97655452,\n",
       "          59.95476232,  59.97718746,  59.95811947,  59.96788042,\n",
       "          59.96620153,  59.96248638,  59.98287543,  59.96030284,\n",
       "          59.97067498,  59.96936498,  59.95881776,  59.97084338,\n",
       "          59.95482133]]),\n",
       " 'skew_x': array([[ 3.53288016,  0.21100209,  0.23873916, -0.46854067, -0.10911597,\n",
       "          0.35415719, -0.12442595,  1.3590079 ,  0.38530717, -0.78674619,\n",
       "         -0.67632134,  0.93050664, -0.07579937, -0.49913027, -0.21678461,\n",
       "          0.14264699,  0.01665227, -0.15355845,  0.09522627, -0.42766784,\n",
       "          0.62464081,  0.70257162, -0.41638822, -0.08737962,  0.13889655,\n",
       "          0.33646694,  0.33279642, -0.12350255, -0.25634664, -0.00589446,\n",
       "          0.50994315,  1.16209121, -0.06448228,  0.66062105,  0.25365627,\n",
       "         -0.28539188,  0.54891997,  0.45385037,  0.32491896,  0.84431583,\n",
       "         -0.09927146, -0.20157729,  0.53421359,  0.95287389, -0.41299587,\n",
       "         -0.54873516,  0.42250788, -0.10900098,  0.07885536,  0.82817325,\n",
       "          0.31122071, -0.20145513,  0.3624924 , -0.21574966, -0.26040799,\n",
       "          0.54533642, -0.87881521,  0.11531918,  0.34660761, -0.67676266,\n",
       "         -0.50059075,  0.38333557,  1.12794379, -0.4795124 , -1.16520138,\n",
       "          0.94445458, -0.19300371, -0.68796778,  0.72581486,  0.20511988,\n",
       "         -0.26697683, -0.11913404,  0.14671091, -0.17016533,  0.78542748,\n",
       "          0.65733537,  0.02658062,  0.07845787,  0.46089803, -0.65136892,\n",
       "          0.40341128, -0.76580154,  0.44480463, -0.38916328,  0.14109996,\n",
       "          0.33862751, -0.31264777,  0.56782774, -0.41805128, -0.13982658,\n",
       "          0.60422573, -0.67212594,  0.77804533]]),\n",
       " 'var_x': array([[  1.50387272e-01,   5.53728845e-05,   3.58565078e-05,\n",
       "           8.40890643e-06,   7.44347569e-05,   1.23625002e-05,\n",
       "           2.02844856e-06,   5.13165021e-06,   5.52802441e-05,\n",
       "           1.98822690e-05,   2.65893434e-05,   1.46193370e-05,\n",
       "           3.79964498e-05,   7.53841344e-06,   3.43405216e-05,\n",
       "           1.43119876e-05,   1.08304520e-05,   2.24881463e-05,\n",
       "           3.39927786e-06,   2.40655692e-05,   3.14250617e-05,\n",
       "           2.97749471e-05,   4.50311185e-05,   2.88796487e-05,\n",
       "           3.53779595e-05,   5.84886944e-06,   8.16460988e-06,\n",
       "           4.14818870e-05,   8.98829915e-06,   3.64174155e-05,\n",
       "           1.90329506e-05,   7.75990810e-06,   4.39286250e-05,\n",
       "           3.62770750e-06,   9.79649833e-06,   2.00911716e-05,\n",
       "           9.79517671e-06,   1.36573853e-05,   1.10354991e-05,\n",
       "           3.18466557e-06,   1.04300027e-05,   4.67720169e-06,\n",
       "           5.13693822e-06,   2.86236210e-06,   8.35522007e-06,\n",
       "           1.33687215e-05,   4.63739245e-06,   7.90556384e-06,\n",
       "           3.33493243e-05,   5.64770883e-06,   3.47455257e-06,\n",
       "           2.95363432e-05,   2.98687797e-06,   2.43308633e-06,\n",
       "           3.95558988e-06,   4.15365817e-05,   1.02372550e-05,\n",
       "           4.85070491e-06,   2.90850947e-05,   1.60230913e-05,\n",
       "           3.55951178e-05,   1.57579701e-05,   1.77051635e-05,\n",
       "           6.05089030e-05,   3.40995199e-05,   2.57557970e-05,\n",
       "           4.70371053e-05,   3.75440561e-05,   3.14205012e-05,\n",
       "           2.26351443e-05,   3.26382136e-05,   3.59850258e-05,\n",
       "           5.73631190e-05,   4.63454825e-06,   3.71774644e-06,\n",
       "           4.29833146e-06,   1.55641971e-05,   1.02150841e-04,\n",
       "           9.74325925e-05,   4.43582165e-05,   1.36820704e-05,\n",
       "           4.31516333e-05,   1.10550137e-04,   1.29381276e-04,\n",
       "           7.60992548e-05,   7.70566219e-05,   1.53247085e-05,\n",
       "           6.15213831e-05,   9.53625081e-05,   9.26017961e-05,\n",
       "           5.46351990e-05,   6.46917874e-05,   7.04275199e-05]])}"
      ]
     },
     "execution_count": 12,
     "metadata": {},
     "output_type": "execute_result"
    }
   ],
   "source": [
    "mat"
   ]
  },
  {
   "cell_type": "markdown",
   "metadata": {},
   "source": [
    "mat['F']"
   ]
  },
  {
   "cell_type": "code",
   "execution_count": 9,
   "metadata": {
    "collapsed": false
   },
   "outputs": [
    {
     "data": {
      "text/plain": [
       "array([[ 59.91214667,  60.5390501 ,  61.17437149, ...,  59.98469221,\n",
       "         59.98745747,  59.98834475]])"
      ]
     },
     "execution_count": 9,
     "metadata": {},
     "output_type": "execute_result"
    }
   ],
   "source": [
    "mat['F']"
   ]
  },
  {
   "cell_type": "code",
   "execution_count": 19,
   "metadata": {
    "collapsed": false
   },
   "outputs": [
    {
     "data": {
      "text/plain": [
       "<Container object of 3 artists>"
      ]
     },
     "execution_count": 19,
     "metadata": {},
     "output_type": "execute_result"
    },
    {
     "data": {
      "image/png": "[encoded data removed]",
      "text/plain": [
       "<matplotlib.figure.Figure at 0x10c5cc310>"
      ]
     },
     "metadata": {},
     "output_type": "display_data"
    }
   ],
   "source": [
    "plt.stem(mat['mean_x'][0])"
   ]
  },
  {
   "cell_type": "code",
   "execution_count": 18,
   "metadata": {
    "collapsed": false
   },
   "outputs": [
    {
     "data": {
      "text/plain": [
       "93"
      ]
     },
     "execution_count": 18,
     "metadata": {},
     "output_type": "execute_result"
    }
   ],
   "source": [
    "len(mat['mean_x'][0])"
   ]
  },
  {
   "cell_type": "code",
   "execution_count": null,
   "metadata": {
    "collapsed": true
   },
   "outputs": [],
   "source": []
  }
 ],
 "metadata": {
  "kernelspec": {
   "display_name": "Python 2",
   "language": "python",
   "name": "python2"
  },
  "language_info": {
   "codemirror_mode": {
    "name": "ipython",
    "version": 2
   },
   "file_extension": ".py",
   "mimetype": "text/x-python",
   "name": "python",
   "nbconvert_exporter": "python",
   "pygments_lexer": "ipython2",
   "version": "2.7.6"
  }
 },
 "nbformat": 4,
 "nbformat_minor": 0
}
